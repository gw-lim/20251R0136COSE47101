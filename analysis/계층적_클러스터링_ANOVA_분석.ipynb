{
  "nbformat": 4,
  "nbformat_minor": 0,
  "metadata": {
    "colab": {
      "provenance": []
    },
    "kernelspec": {
      "name": "python3",
      "display_name": "Python 3"
    },
    "language_info": {
      "name": "python"
    }
  },
  "cells": [
    {
      "cell_type": "code",
      "execution_count": 1,
      "metadata": {
        "colab": {
          "base_uri": "https://localhost:8080/"
        },
        "id": "GoSJVFOodOjH",
        "outputId": "630622b1-ec0e-4184-cd8e-30ec8f0ae6f5"
      },
      "outputs": [
        {
          "output_type": "stream",
          "name": "stdout",
          "text": [
            "✅ 데이터 로드 성공!\n"
          ]
        }
      ],
      "source": [
        "import pandas as pd\n",
        "import numpy as np\n",
        "import matplotlib.pyplot as plt\n",
        "import seaborn as sns\n",
        "from scipy import stats\n",
        "from scipy.stats import f_oneway, kruskal\n",
        "import warnings\n",
        "warnings.filterwarnings('ignore')\n",
        "\n",
        "# 한글 폰트 설정 (Google Colab에서 한글 표시용)\n",
        "plt.rcParams['font.family'] = 'DejaVu Sans'\n",
        "sns.set_style(\"whitegrid\")\n",
        "\n",
        "# 1. 데이터 로드\n",
        "try:\n",
        "    # Google Colab에서 파일을 업로드한 경우\n",
        "    df = pd.read_csv('/content/final_dataset_integrated_features.csv', encoding = 'utf-8')\n",
        "    print(\"✅ 데이터 로드 성공!\")\n",
        "except:\n",
        "    print(\"❌ Error - No data found\")\n",
        "    exit()\n",
        "\n",
        "# 중구 데이터 삭제\n",
        "df.drop(index=23, inplace=True)"
      ]
    },
    {
      "cell_type": "code",
      "source": [
        "# 클러스터 할당\n",
        "cluster_mapping = {\n",
        "    # Cluster 4\n",
        "    'Gangnam': 4, 'Yeongdeungpo': 4,\n",
        "\n",
        "    # Cluster 1\n",
        "    'Eunpyeong': 1, 'Seongbuk': 1, 'Jungnang': 1, 'Gangbuk': 1, 'Nowon': 1, 'Dobong': 1,\n",
        "\n",
        "    # Cluster 3\n",
        "    'Gwangjin': 3, 'Yangcheon': 3, 'Guro': 3, 'Yongsan': 3, 'Gangseo': 3, 'Geumcheon': 3,\n",
        "\n",
        "    # Cluster 2\n",
        "    'Gangdong': 2, 'Jongno': 2, 'Gwanak': 2, 'Dongdaemun': 2, 'Seocho': 2,\n",
        "    'Songpa': 2, 'Seodaemun': 2, 'Dongjak': 2, 'Mapo': 2, 'Seongdong': 2\n",
        "}\n",
        "\n",
        "# 클러스터 정보 추가\n",
        "df['Cluster'] = df['District'].map(cluster_mapping)\n",
        "\n",
        "print(\"=== 클러스터별 범죄밀도 분석 ===\\n\")\n",
        "\n",
        "# 1. 기본 통계량\n",
        "print(\"1. 클러스터별 범죄밀도 기본 통계량\")\n",
        "print(\"=\"*50)\n",
        "cluster_stats = df.groupby('Cluster')['Crime_Density'].agg([\n",
        "    'count', 'mean', 'std', 'min', 'max', 'median'\n",
        "]).round(4)\n",
        "cluster_stats.columns = ['구 개수', '평균', '표준편차', '최솟값', '최댓값', '중앙값']\n",
        "print(cluster_stats)\n",
        "print()\n",
        "\n",
        "# 2. 각 클러스터별 세부 정보\n",
        "print(\"2. 클러스터별 세부 정보\")\n",
        "print(\"=\"*50)\n",
        "for cluster in sorted(df['Cluster'].unique()):\n",
        "    cluster_data = df[df['Cluster'] == cluster]\n",
        "    print(f\"\\n** Cluster {cluster} **\")\n",
        "    print(f\"구: {', '.join(cluster_data['District'].tolist())}\")\n",
        "    print(f\"범죄밀도 평균: {cluster_data['Crime_Density'].mean():.4f}\")\n",
        "    print(f\"범죄밀도 표준편차: {cluster_data['Crime_Density'].std():.4f}\")\n",
        "    crime_values = cluster_data[['District', 'Crime_Density']].sort_values('Crime_Density', ascending=False)\n",
        "    for _, row in crime_values.iterrows():\n",
        "        print(f\"  - {row['District']}: {row['Crime_Density']:.4f}\")"
      ],
      "metadata": {
        "colab": {
          "base_uri": "https://localhost:8080/"
        },
        "id": "eLROUgkpdt7D",
        "outputId": "7b9646e7-6ad1-412c-8184-86967fda753c"
      },
      "execution_count": 9,
      "outputs": [
        {
          "output_type": "stream",
          "name": "stdout",
          "text": [
            "=== 클러스터별 범죄밀도 분석 ===\n",
            "\n",
            "1. 클러스터별 범죄밀도 기본 통계량\n",
            "==================================================\n",
            "         구 개수        평균     표준편차    최솟값     최댓값      중앙값\n",
            "Cluster                                                 \n",
            "1           6   66.3700  16.9591  52.11   96.59   58.130\n",
            "2          10   77.8730  16.8757  51.27  103.45   76.640\n",
            "3           6   88.9333  19.2038  58.84  110.14   91.075\n",
            "4           2  100.9900   3.7618  98.33  103.65  100.990\n",
            "\n",
            "2. 클러스터별 세부 정보\n",
            "==================================================\n",
            "\n",
            "** Cluster 1 **\n",
            "구: Gangbuk, Nowon, Dobong, Seongbuk, Eunpyeong, Jungnang\n",
            "범죄밀도 평균: 66.3700\n",
            "범죄밀도 표준편차: 16.9591\n",
            "  - Jungnang: 96.5900\n",
            "  - Gangbuk: 76.2300\n",
            "  - Seongbuk: 58.9100\n",
            "  - Eunpyeong: 57.3500\n",
            "  - Nowon: 57.0300\n",
            "  - Dobong: 52.1100\n",
            "\n",
            "** Cluster 2 **\n",
            "구: Gangdong, Gwanak, Dongdaemun, Dongjak, Mapo, Seodaemun, Seocho, Seongdong, Songpa, Jongno\n",
            "범죄밀도 평균: 77.8730\n",
            "범죄밀도 표준편차: 16.8757\n",
            "  - Dongdaemun: 103.4500\n",
            "  - Mapo: 101.8900\n",
            "  - Gwanak: 88.6000\n",
            "  - Dongjak: 82.6400\n",
            "  - Songpa: 80.9300\n",
            "  - Gangdong: 72.3500\n",
            "  - Seongdong: 67.6000\n",
            "  - Jongno: 67.2100\n",
            "  - Seodaemun: 62.7900\n",
            "  - Seocho: 51.2700\n",
            "\n",
            "** Cluster 3 **\n",
            "구: Gangseo, Gwangjin, Guro, Geumcheon, Yangcheon, Yongsan\n",
            "범죄밀도 평균: 88.9333\n",
            "범죄밀도 표준편차: 19.2038\n",
            "  - Guro: 110.1400\n",
            "  - Geumcheon: 103.2300\n",
            "  - Gwangjin: 100.5900\n",
            "  - Yangcheon: 81.5600\n",
            "  - Yongsan: 79.2400\n",
            "  - Gangseo: 58.8400\n",
            "\n",
            "** Cluster 4 **\n",
            "구: Gangnam, Yeongdeungpo\n",
            "범죄밀도 평균: 100.9900\n",
            "범죄밀도 표준편차: 3.7618\n",
            "  - Gangnam: 103.6500\n",
            "  - Yeongdeungpo: 98.3300\n"
          ]
        }
      ]
    },
    {
      "cell_type": "code",
      "source": [
        "# 3. 통계적 유의성 검정\n",
        "print(\"\\n3. 통계적 유의성 검정\")\n",
        "print(\"=\"*50)\n",
        "\n",
        "# 각 클러스터별 범죄밀도 데이터 분리\n",
        "cluster_groups = []\n",
        "for cluster in sorted(df['Cluster'].unique()):\n",
        "    cluster_groups.append(df[df['Cluster'] == cluster]['Crime_Density'].values)\n",
        "\n",
        "# 정규성 검정 (Shapiro-Wilk)\n",
        "print(\"정규성 검정 (Shapiro-Wilk test):\")\n",
        "for i, cluster in enumerate(sorted(df['Cluster'].unique())):\n",
        "    stat, p_value = stats.shapiro(cluster_groups[i])\n",
        "    print(f\"Cluster {cluster}: p-value = {p_value:.4f} ({'정규분포' if p_value > 0.05 else '비정규분포'})\")\n",
        "\n",
        "# ANOVA vs Kruskal-Wallis 검정\n",
        "print(f\"\\n분산 분석:\")\n",
        "# ANOVA (정규분포 가정)\n",
        "f_stat, p_anova = f_oneway(*cluster_groups)\n",
        "print(f\"ANOVA F-통계량: {f_stat:.4f}, p-value: {p_anova:.4f}\")\n",
        "\n",
        "# Kruskal-Wallis (비모수 검정)\n",
        "kw_stat, p_kruskal = kruskal(*cluster_groups)\n",
        "print(f\"Kruskal-Wallis H-통계량: {kw_stat:.4f}, p-value: {p_kruskal:.4f}\")\n",
        "\n",
        "# 결과 해석\n",
        "alpha = 0.10\n",
        "print(f\"\\n** 결과 해석 (α = {alpha}) **\")\n",
        "if p_anova < alpha or p_kruskal < alpha:\n",
        "    print(\"✅ 클러스터 간 범죄밀도에 통계적으로 유의미한 차이가 있습니다.\")\n",
        "else:\n",
        "    print(\"❌ 클러스터 간 범죄밀도에 통계적으로 유의미한 차이가 없습니다.\")"
      ],
      "metadata": {
        "colab": {
          "base_uri": "https://localhost:8080/"
        },
        "id": "IpHtRvvYe9Bh",
        "outputId": "9c339145-5ffc-4ade-c99f-56ed0641a55e"
      },
      "execution_count": 5,
      "outputs": [
        {
          "output_type": "stream",
          "name": "stdout",
          "text": [
            "\n",
            "3. 통계적 유의성 검정\n",
            "==================================================\n",
            "정규성 검정 (Shapiro-Wilk test):\n",
            "Cluster 1: p-value = nan (비정규분포)\n",
            "Cluster 2: p-value = 0.0720 (정규분포)\n",
            "Cluster 3: p-value = 0.5757 (정규분포)\n",
            "Cluster 4: p-value = 0.7729 (정규분포)\n",
            "\n",
            "분산 분석:\n",
            "ANOVA F-통계량: 2.8645, p-value: 0.0624\n",
            "Kruskal-Wallis H-통계량: 7.3387, p-value: 0.0619\n",
            "\n",
            "** 결과 해석 (α = 0.1) **\n",
            "✅ 클러스터 간 범죄밀도에 통계적으로 유의미한 차이가 있습니다.\n"
          ]
        }
      ]
    },
    {
      "cell_type": "code",
      "source": [
        "# 4. 사후 검정 (Tukey HSD)\n",
        "if p_anova < alpha:\n",
        "    print(\"\\n4. 사후 검정 (Tukey HSD)\")\n",
        "    print(\"=\"*50)\n",
        "    from scipy.stats import tukey_hsd\n",
        "\n",
        "    try:\n",
        "        tukey_result = tukey_hsd(*cluster_groups)\n",
        "        print(\"클러스터 간 쌍별 비교:\")\n",
        "        clusters = sorted(df['Cluster'].unique())\n",
        "        for i in range(len(clusters)):\n",
        "            for j in range(i+1, len(clusters)):\n",
        "                p_val = tukey_result.pvalue[i, j]\n",
        "                significance = \"유의함\" if p_val < alpha else \"유의하지 않음\"\n",
        "                print(f\"Cluster {clusters[i]} vs Cluster {clusters[j]}: p-value = {p_val:.4f} ({significance})\")\n",
        "    except:\n",
        "        print(\"Tukey HSD 검정을 수행할 수 없습니다. (샘플 크기 부족)\")"
      ],
      "metadata": {
        "colab": {
          "base_uri": "https://localhost:8080/"
        },
        "id": "Mu1PT0v1feQD",
        "outputId": "8bc012f7-6667-4d0a-d227-bdbad137823d"
      },
      "execution_count": 10,
      "outputs": [
        {
          "output_type": "stream",
          "name": "stdout",
          "text": [
            "\n",
            "4. 사후 검정 (Tukey HSD)\n",
            "==================================================\n",
            "클러스터 간 쌍별 비교:\n",
            "Cluster 1 vs Cluster 2: p-value = 0.0945 (유의함)\n",
            "Cluster 1 vs Cluster 3: p-value = 0.8237 (유의하지 않음)\n",
            "Cluster 1 vs Cluster 4: p-value = 0.3286 (유의하지 않음)\n",
            "Cluster 2 vs Cluster 3: p-value = 0.1356 (유의하지 않음)\n",
            "Cluster 2 vs Cluster 4: p-value = 0.5726 (유의하지 않음)\n",
            "Cluster 3 vs Cluster 4: p-value = 0.6029 (유의하지 않음)\n"
          ]
        }
      ]
    },
    {
      "cell_type": "code",
      "source": [
        "# 5. 시각화\n",
        "plt.figure(figsize=(15, 10))\n",
        "\n",
        "# 5-1. 박스플롯\n",
        "plt.subplot(2, 2, 1)\n",
        "sns.boxplot(data=df, x='Cluster', y='Crime_Density', palette='Set2')\n",
        "plt.title('Criminal Density Distribution by Clusters (Box Plot)')\n",
        "plt.xlabel('Cluster No.')\n",
        "plt.ylabel('Criminal_Density')"
      ],
      "metadata": {
        "colab": {
          "base_uri": "https://localhost:8080/",
          "height": 469
        },
        "id": "BePoPEd_fiZv",
        "outputId": "3ab339ca-ecfa-4a87-93b7-c7477b32bc6d"
      },
      "execution_count": 11,
      "outputs": [
        {
          "output_type": "execute_result",
          "data": {
            "text/plain": [
              "Text(0, 0.5, 'Criminal_Density')"
            ]
          },
          "metadata": {},
          "execution_count": 11
        },
        {
          "output_type": "display_data",
          "data": {
            "text/plain": [
              "<Figure size 1500x1000 with 1 Axes>"
            ],
            "image/png": "[encoded data removed]"
          },
          "metadata": {}
        }
      ]
    }
  ]
}